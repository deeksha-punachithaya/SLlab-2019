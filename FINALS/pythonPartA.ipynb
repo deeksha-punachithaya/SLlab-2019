{
 "cells": [
  {
   "cell_type": "markdown",
   "metadata": {},
   "source": [
    "### Atomic elements"
   ]
  },
  {
   "cell_type": "code",
   "execution_count": 2,
   "metadata": {},
   "outputs": [],
   "source": [
    "dict = {'H':'Hydrogen', 'He':'Helium', 'Be':'Beryllium', 'Li':'Lithium'}\n",
    "dict['B'] = 'Boron'"
   ]
  },
  {
   "cell_type": "code",
   "execution_count": 6,
   "metadata": {},
   "outputs": [
    {
     "name": "stdout",
     "output_type": "stream",
     "text": [
      "Key is:  H Element is:  Hydrogen\n",
      "Key is:  He Element is:  Helium\n",
      "Key is:  Be Element is:  Beryllium\n",
      "Key is:  Li Element is:  Lithium\n",
      "Key is:  B Element is:  Boron\n"
     ]
    }
   ],
   "source": [
    "for i in dict:\n",
    "    print(\"Key is: \",i,\"Element is: \",dict[i])"
   ]
  },
  {
   "cell_type": "code",
   "execution_count": 9,
   "metadata": {},
   "outputs": [
    {
     "name": "stdout",
     "output_type": "stream",
     "text": [
      "Original number of elements is:  5\n"
     ]
    }
   ],
   "source": [
    "numb = len(dict)\n",
    "print(\"Original number of elements is: \", numb)"
   ]
  },
  {
   "cell_type": "code",
   "execution_count": 10,
   "metadata": {},
   "outputs": [
    {
     "data": {
      "text/plain": [
       "'enter new atomic symbol'"
      ]
     },
     "execution_count": 10,
     "metadata": {},
     "output_type": "execute_result"
    }
   ],
   "source": [
    "\"enter new atomic symbol\""
   ]
  },
  {
   "cell_type": "code",
   "execution_count": 11,
   "metadata": {},
   "outputs": [
    {
     "name": "stdout",
     "output_type": "stream",
     "text": [
      "Enter symbolW\n",
      "NameTungsten\n",
      "Do you want to enter more elements?y\n",
      "Enter symbolC\n",
      "NameCarbon\n",
      "Do you want to enter more elements?n\n"
     ]
    }
   ],
   "source": [
    "answer = \"y\"\n",
    "while answer == \"y\":\n",
    "    key = input('Enter symbol')\n",
    "    value = input('Name')\n",
    "    dict[key] = value\n",
    "    answer = input('Do you want to enter more elements?')"
   ]
  },
  {
   "cell_type": "code",
   "execution_count": 12,
   "metadata": {},
   "outputs": [
    {
     "name": "stdout",
     "output_type": "stream",
     "text": [
      "{'H': 'Hydrogen', 'He': 'Helium', 'Be': 'Beryllium', 'Li': 'Lithium', 'B': 'Boron', 'W': 'Tungsten', 'C': 'Carbon'}\n"
     ]
    }
   ],
   "source": [
    "print(dict)"
   ]
  },
  {
   "cell_type": "code",
   "execution_count": 13,
   "metadata": {},
   "outputs": [
    {
     "data": {
      "text/plain": [
       "7"
      ]
     },
     "execution_count": 13,
     "metadata": {},
     "output_type": "execute_result"
    }
   ],
   "source": [
    "len(dict)"
   ]
  },
  {
   "cell_type": "code",
   "execution_count": 16,
   "metadata": {},
   "outputs": [
    {
     "name": "stdout",
     "output_type": "stream",
     "text": [
      "SearchNa\n"
     ]
    }
   ],
   "source": [
    "search = input('Search')"
   ]
  },
  {
   "cell_type": "code",
   "execution_count": 17,
   "metadata": {},
   "outputs": [
    {
     "name": "stdout",
     "output_type": "stream",
     "text": [
      "Doesnt exist\n"
     ]
    }
   ],
   "source": [
    "if search in dict:\n",
    "    print('Exists')\n",
    "    print('Its value is: %s' %dict[search])\n",
    "else:\n",
    "    print('Doesnt exist')"
   ]
  },
  {
   "cell_type": "code",
   "execution_count": null,
   "metadata": {},
   "outputs": [],
   "source": [
    "#strs = ['ccc', 'aaaa', 'd', 'bb']\n",
    "#  print sorted(strs, key=len)  ## ['d', 'bb', 'ccc', 'aaaa']"
   ]
  },
  {
   "cell_type": "markdown",
   "metadata": {},
   "source": [
    "### File Handling"
   ]
  },
  {
   "cell_type": "code",
   "execution_count": 30,
   "metadata": {},
   "outputs": [
    {
     "name": "stdout",
     "output_type": "stream",
     "text": [
      "hi hello why hi hello where have you been come how fine me too whaaat oh my god why so sad\n",
      "\n",
      "['hi', 'hello', 'why', 'hi', 'hello', 'where', 'have', 'you', 'been', 'come', 'how', 'fine', 'me', 'too', 'whaaat', 'oh', 'my', 'god', 'why', 'so', 'sad']\n",
      "{'hi': 2, 'hello': 2, 'why': 2, 'where': 1, 'have': 1, 'you': 1, 'been': 1, 'come': 1, 'how': 1, 'fine': 1, 'me': 1, 'too': 1, 'whaaat': 1, 'oh': 1, 'my': 1, 'god': 1, 'so': 1, 'sad': 1}\n",
      "Enter search string: why\n",
      "Found word why 2 times\n"
     ]
    }
   ],
   "source": [
    "escape = open('Escape.txt')\n",
    "\n",
    "dic = {}\n",
    "for line in escape:\n",
    "    print(line)\n",
    "    myline = line.split()\n",
    "    print(myline)\n",
    "    for word in myline:\n",
    "        w = dic.get(word,0) + 1\n",
    "        dic[word] = w\n",
    "print(dic)\n",
    "\n",
    "search =input(\"Enter search string: \")\n",
    "if search in dic: \n",
    "    print(\"Found word %s %d times\" %(search, dic[search]))\n",
    "else: \n",
    "    print (\"Sorry! Not found\")"
   ]
  },
  {
   "cell_type": "code",
   "execution_count": 31,
   "metadata": {},
   "outputs": [
    {
     "name": "stdout",
     "output_type": "stream",
     "text": [
      "hi 2\n",
      "hello 2\n",
      "why 2\n",
      "where 1\n",
      "have 1\n",
      "you 1\n",
      "been 1\n",
      "come 1\n",
      "how 1\n",
      "fine 1\n"
     ]
    }
   ],
   "source": [
    "count=0\n",
    "for k in sorted(dic, key=dic.get, reverse = True):\n",
    "    print(k, dic[k])\n",
    "    count = count + 1 \n",
    "    if count>=10:\n",
    "        break"
   ]
  },
  {
   "cell_type": "code",
   "execution_count": 37,
   "metadata": {},
   "outputs": [
    {
     "data": {
      "text/plain": [
       "[2, 2, 2, 1, 1, 1, 1, 1, 1, 1, 1, 1, 1, 1, 1, 1, 1, 1]"
      ]
     },
     "execution_count": 37,
     "metadata": {},
     "output_type": "execute_result"
    }
   ],
   "source": [
    "dict = list(dic.values())\n",
    "dict"
   ]
  },
  {
   "cell_type": "code",
   "execution_count": 34,
   "metadata": {},
   "outputs": [],
   "source": [
    "import functools\n",
    "import statistics"
   ]
  },
  {
   "cell_type": "code",
   "execution_count": 42,
   "metadata": {},
   "outputs": [
    {
     "data": {
      "text/plain": [
       "21"
      ]
     },
     "execution_count": 42,
     "metadata": {},
     "output_type": "execute_result"
    }
   ],
   "source": [
    "import operator\n",
    "sum = (functools.reduce(operator.add,dict))\n",
    "sum"
   ]
  },
  {
   "cell_type": "code",
   "execution_count": 43,
   "metadata": {},
   "outputs": [
    {
     "name": "stdout",
     "output_type": "stream",
     "text": [
      "1.1666666666666667\n"
     ]
    }
   ],
   "source": [
    "print(sum/len(dict))"
   ]
  },
  {
   "cell_type": "code",
   "execution_count": 45,
   "metadata": {},
   "outputs": [
    {
     "data": {
      "text/plain": [
       "[1, 9, 25, 49, 81, 121, 169]"
      ]
     },
     "execution_count": 45,
     "metadata": {},
     "output_type": "execute_result"
    }
   ],
   "source": [
    "list1 = [x*x for x in range(0,15) if x%2 != 0]\n",
    "list1"
   ]
  },
  {
   "cell_type": "markdown",
   "metadata": {},
   "source": [
    "### Temperature Converter"
   ]
  },
  {
   "cell_type": "code",
   "execution_count": 46,
   "metadata": {},
   "outputs": [
    {
     "name": "stdout",
     "output_type": "stream",
     "text": [
      "Enter\n",
      "1 - Convert Temperature\n",
      "2 - Show Conversions\n",
      "3 - Exit\n",
      "Response: 1\n",
      "Enter Original Unit (k/c/f): c\n",
      "Enter New Unit (k/c/f): f\n",
      "Enter Temperature: 50\n",
      "50.0 c --> 122.0 f\n",
      "Enter\n",
      "1 - Convert Temperature\n",
      "2 - Show Conversions\n",
      "3 - Exit\n",
      "Response: 1\n",
      "Enter Original Unit (k/c/f): k\n",
      "Enter New Unit (k/c/f): c\n",
      "Enter Temperature: 123\n",
      "123.0 k --> -150.15 c\n",
      "Enter\n",
      "1 - Convert Temperature\n",
      "2 - Show Conversions\n",
      "3 - Exit\n",
      "Response: 2\n",
      "50.0c --> 122.0f\n",
      "123.0k --> -150.15c\n",
      "Enter\n",
      "1 - Convert Temperature\n",
      "2 - Show Conversions\n",
      "3 - Exit\n",
      "Response: 3\n"
     ]
    }
   ],
   "source": [
    "c2f = lambda c : (c*9/5)+32\n",
    "c2k = lambda c : (c+273.15)\n",
    "f2c = lambda f : (f-32)*5/9\n",
    "f2k = lambda f : (f2c(f)+273.15)\n",
    "k2c = lambda k : (k-273.15)\n",
    "k2f = lambda k : (c2f(k-273.15))\n",
    "# method to select conversion functions based on units passed\n",
    "method = lambda fromTemp, toTemp ,temp : globals()[fromTemp+\"2\"+toTemp](temp)\n",
    "# to hold conversion\n",
    "conv = list()\n",
    "# list driven program\n",
    "while True:\n",
    "    x=input(\"Enter\\n1 - Convert Temperature\\n2 - Show Conversions\\n3 - Exit\\nResponse: \")\n",
    "    if x=='1' :\n",
    "        fromTemp=input(\"Enter Original Unit (k/c/f): \").lower()\n",
    "        toTemp=input(\"Enter New Unit (k/c/f): \").lower()\n",
    "        if fromTemp in ['k', 'c', 'f'] and toTemp in ['k', 'c', 'f'] and fromTemp!=toTemp :\n",
    "            temp=float(input(\"Enter Temperature: \"))\n",
    "            convTemp=round(method(fromTemp, toTemp, temp),2)\n",
    "            print(temp, fromTemp, \"-->\", convTemp, toTemp)\n",
    "            conv.append((str(temp)+fromTemp, str(convTemp)+toTemp))\n",
    "        else:\n",
    "            print(\"Invalid Input\")\n",
    "    elif x=='2' :\n",
    "        for i in conv:\n",
    "            print(i[0]+\" --> \"+i[1])\n",
    "    elif x=='3' :\n",
    "        break\n",
    "    else:\n",
    "        print(\"Invalid Input\")"
   ]
  },
  {
   "cell_type": "markdown",
   "metadata": {},
   "source": [
    "### Student Class"
   ]
  },
  {
   "cell_type": "code",
   "execution_count": 47,
   "metadata": {},
   "outputs": [
    {
     "name": "stdout",
     "output_type": "stream",
     "text": [
      "************************* \n",
      "Enter Data\n",
      "Name: Deeksha\n",
      "Age: 20\n",
      "Physics Marks: 50\n",
      "Chemistry Marks: 50\n",
      "Mathematics Marks: 60\n",
      "-------------------------\n",
      "Name: Deeksha\n",
      "Age: 20\n",
      "Physics Marks: 50\n",
      "Chemistry Marks: 50\n",
      "Mathematics Marks: 60\n",
      "************************* \n",
      "Enter Data\n",
      "Name: abc\n",
      "Age: 20\n",
      "Physics Marks: 7\n",
      "Chemistry Marks: 78\n",
      "Mathematics Marks: 87\n",
      "-------------------------\n",
      "Name: abc\n",
      "Age: 20\n",
      "Physics Marks: 7\n",
      "Chemistry Marks: 78\n",
      "Mathematics Marks: 87\n",
      "*************************\n"
     ]
    }
   ],
   "source": [
    "class Student:\n",
    "    def __init__(self, name=None, age=None, p=None, c=None, m=None):\n",
    "        self.name=name\n",
    "        self.age=age\n",
    "        self.mark=[p,c,m]\n",
    "    def accept(self):\n",
    "        self.name=input(\"Name: \")\n",
    "        self.age=input(\"Age: \")\n",
    "        self.mark=[int(input(\"Physics Marks: \")), int(input(\"Chemistry Marks: \")), int(input(\"Mathematics Marks: \"))]\n",
    "    def display(self):\n",
    "        print(\"Name:\",self.name)\n",
    "        print(\"Age:\",self.age)\n",
    "        print(\"Physics Marks:\",self.mark[0])\n",
    "        print(\"Chemistry Marks:\",self.mark[1])\n",
    "        print(\"Mathematics Marks:\",self.mark[2])\n",
    "\n",
    "std1=Student()\n",
    "std2=Student()\n",
    "print(\"*\"*25,\"\\nEnter Data\")\n",
    "std1.accept()\n",
    "print(\"-\"*25)\n",
    "std1.display()\n",
    "print(\"*\"*25,\"\\nEnter Data\")\n",
    "std2.accept()\n",
    "print(\"-\"*25)\n",
    "std2.display()\n",
    "print(\"*\"*25)"
   ]
  },
  {
   "cell_type": "code",
   "execution_count": 62,
   "metadata": {},
   "outputs": [
    {
     "name": "stdout",
     "output_type": "stream",
     "text": [
      "Name Deeksha\n",
      "Age 20\n",
      "Marks  [50, 67, 80]\n",
      "Name Deeksha\n",
      "Age 20\n",
      "Marks  [50, 67, 80]\n",
      "Enter name of person Deek\n",
      "Enter age 7\n",
      "Please enter marks of three subjects as a space-separated string 12 3 23\n",
      "Name Deek\n",
      "Age 7\n",
      "Marks  ['12', '3', '23']\n",
      "Enter name of person jhbj\n",
      "Enter age 9\n",
      "Please enter marks of three subjects as a space-separated string 89 90 89\n",
      "Name jhbj\n",
      "Age 9\n",
      "Marks  ['89', '90', '89']\n"
     ]
    }
   ],
   "source": [
    "class Student:\n",
    "\tdef __init__(self,name,age,marks):\n",
    "\t\tself.name = name\n",
    "\t\tself.age = age\n",
    "\t\tself.marks = marks\n",
    "\tdef disp(self):\n",
    "\t\tprint(\"Name \" + self.name)\n",
    "\t\tprint(\"Age \" + str(self.age))\n",
    "\t\tprint(\"Marks \",self.marks)\n",
    "\tdef accept(self):\n",
    "\t\tself.name = input('Enter name of person ')\n",
    "\t\tself.age = input('Enter age ')\n",
    "\tdef listaccept(self):\n",
    "\t\tmarks_str = input('Please enter marks of three subjects as a space-separated string ')\n",
    "\t\tself.marks = marks_str.split()\n",
    "\t\t\n",
    "s1 = Student(\"Deeksha\",20,[50,67,80]);\n",
    "s1.disp();\n",
    "s2 = Student(\"ABC\",12,[34,55,66]);\n",
    "s1.disp();\n",
    "s1.accept()\n",
    "s1.listaccept()\n",
    "s1.disp()\n",
    "s2.accept()\n",
    "s2.listaccept()\n",
    "s2.disp()"
   ]
  },
  {
   "cell_type": "markdown",
   "metadata": {},
   "source": [
    "### Reverse String"
   ]
  },
  {
   "cell_type": "code",
   "execution_count": 48,
   "metadata": {},
   "outputs": [
    {
     "name": "stdout",
     "output_type": "stream",
     "text": [
      "Enter Sentence#0 : why are you here\n",
      "Enter Sentence#1 : oh hello there\n",
      "Enter Sentence#2 : get out \n",
      "6 Vowels : why are you here --> here you are why\n",
      "5 Vowels : oh hello there --> there hello oh\n",
      "3 Vowels : get out  --> out get\n"
     ]
    }
   ],
   "source": [
    "class Sentences:\n",
    "    def __init__(self, sent=None):\n",
    "        self.sent=sent\n",
    "        self.vowelCount()\n",
    "    def input(self):\n",
    "        self.sent=input(\"Enter Sentance: \")\n",
    "        self.vowelCount()\n",
    "    def __reverse(self):\n",
    "        words=self.sent.split()\n",
    "        words.reverse()\n",
    "        self.revSent=\" \".join(words)\n",
    "    def display(self):\n",
    "        self.__reverse()\n",
    "        print(\"Original String:\", self.sent)\n",
    "        print(\"Reversed String:\", self.revSent)\n",
    "    def vowelCount(self):\n",
    "        self.count=0\n",
    "        for i in self.sent:\n",
    "            if i.lower() in 'aeiou':\n",
    "                self.count+=1\n",
    "    def __repr__(self):\n",
    "        self.__reverse()\n",
    "        return(self.sent+\" --> \"+self.revSent)\n",
    "\n",
    "\n",
    "\n",
    "SentenceList = [Sentences(input(f\"Enter Sentence#{i} : \")) for i in range(3)]\n",
    "ReversedList = sorted(SentenceList , key = lambda x : x.count, reverse=True)\n",
    "for sentence in ReversedList:\n",
    "    print(sentence.count,\"Vowels :\",sentence)"
   ]
  },
  {
   "cell_type": "markdown",
   "metadata": {},
   "source": [
    "### Reduce and lambda"
   ]
  },
  {
   "cell_type": "code",
   "execution_count": 49,
   "metadata": {},
   "outputs": [
    {
     "name": "stdout",
     "output_type": "stream",
     "text": [
      "Enter Numbers: 21\n",
      "Enter Numbers: 56\n",
      "Enter Numbers: 87\n",
      "Enter Numbers: 12\n",
      "Enter Numbers: 89\n",
      "Enter Numbers: 77\n",
      "Original List: [21, 56, 87, 12, 89, 77]\n",
      "Multiplied List: [63, 168, 261, 36, 267, 231]\n",
      "Sum of Original List Elements: 342\n",
      "Sum of Multiplied List Elements: 1026\n"
     ]
    }
   ],
   "source": [
    "from functools import reduce\n",
    "l = [int(input(\"Enter Numbers: \")) for i in range(6)]\n",
    "print(\"Original List:\",l)\n",
    "ln = list(map(lambda X: X*3, l))\n",
    "print(\"Multiplied List:\", ln)\n",
    "\n",
    "print(\"Sum of Original List Elements:\", reduce(lambda x,y: x+y, l))\n",
    "print(\"Sum of Multiplied List Elements:\", reduce(lambda x,y: x+y, ln))"
   ]
  },
  {
   "cell_type": "markdown",
   "metadata": {},
   "source": [
    "### List 1a"
   ]
  },
  {
   "cell_type": "code",
   "execution_count": 50,
   "metadata": {},
   "outputs": [
    {
     "name": "stdout",
     "output_type": "stream",
     "text": [
      "Enter list elements12 1 23 2 3 4 5\n"
     ]
    },
    {
     "data": {
      "text/plain": [
       "['12', '1', '23', '2', '3', '4', '5']"
      ]
     },
     "execution_count": 50,
     "metadata": {},
     "output_type": "execute_result"
    }
   ],
   "source": [
    "list = input(\"Enter list elements  \")\n",
    "list = list.split(\" \")\n",
    "list"
   ]
  },
  {
   "cell_type": "code",
   "execution_count": 53,
   "metadata": {},
   "outputs": [
    {
     "data": {
      "text/plain": [
       "[12, 1, 23, 2, 3, 4, 5]"
      ]
     },
     "execution_count": 53,
     "metadata": {},
     "output_type": "execute_result"
    }
   ],
   "source": [
    "list = [int(i) for i in list]\n",
    "list"
   ]
  },
  {
   "cell_type": "code",
   "execution_count": 54,
   "metadata": {},
   "outputs": [
    {
     "data": {
      "text/plain": [
       "1"
      ]
     },
     "execution_count": 54,
     "metadata": {},
     "output_type": "execute_result"
    }
   ],
   "source": [
    "min(list)"
   ]
  },
  {
   "cell_type": "code",
   "execution_count": 55,
   "metadata": {},
   "outputs": [
    {
     "data": {
      "text/plain": [
       "23"
      ]
     },
     "execution_count": 55,
     "metadata": {},
     "output_type": "execute_result"
    }
   ],
   "source": [
    "max(list)"
   ]
  },
  {
   "cell_type": "code",
   "execution_count": 56,
   "metadata": {},
   "outputs": [],
   "source": [
    "list.insert(3,7)"
   ]
  },
  {
   "cell_type": "code",
   "execution_count": 57,
   "metadata": {},
   "outputs": [
    {
     "data": {
      "text/plain": [
       "[12, 1, 23, 7, 2, 3, 4, 5]"
      ]
     },
     "execution_count": 57,
     "metadata": {},
     "output_type": "execute_result"
    }
   ],
   "source": [
    "list"
   ]
  },
  {
   "cell_type": "code",
   "execution_count": 58,
   "metadata": {},
   "outputs": [
    {
     "data": {
      "text/plain": [
       "[12, 1, 23, 2, 3, 4, 5]"
      ]
     },
     "execution_count": 58,
     "metadata": {},
     "output_type": "execute_result"
    }
   ],
   "source": [
    "list.pop(3)\n",
    "list"
   ]
  },
  {
   "cell_type": "code",
   "execution_count": 60,
   "metadata": {},
   "outputs": [
    {
     "name": "stdout",
     "output_type": "stream",
     "text": [
      "not present\n"
     ]
    }
   ],
   "source": [
    "ele = 32\n",
    "if ele in list:\n",
    "    print(\"present\")\n",
    "else:\n",
    "    print(\"not present\")"
   ]
  },
  {
   "cell_type": "markdown",
   "metadata": {},
   "source": [
    "### Rectangle Class"
   ]
  },
  {
   "cell_type": "code",
   "execution_count": 61,
   "metadata": {},
   "outputs": [
    {
     "name": "stdout",
     "output_type": "stream",
     "text": [
      "Enter Length: 1\n",
      "Enter Width: 3\n",
      "3.0\n"
     ]
    }
   ],
   "source": [
    "class Rectangle:\n",
    "    def __init__(self, l, h):\n",
    "        self.length = l\n",
    "        self.height = h\n",
    "        self.area = 0\n",
    "    def __Area(self):\n",
    "        self.area = self.length*self.height\n",
    "    def printArea(self):\n",
    "        self.__Area()\n",
    "        print(self.area)\n",
    "\n",
    "a=Rectangle(float(input(\"Enter Length: \")),float(input(\"Enter Width: \")))\n",
    "a.printArea()"
   ]
  },
  {
   "cell_type": "markdown",
   "metadata": {},
   "source": []
  },
  {
   "cell_type": "code",
   "execution_count": null,
   "metadata": {},
   "outputs": [],
   "source": []
  },
  {
   "cell_type": "code",
   "execution_count": null,
   "metadata": {},
   "outputs": [],
   "source": []
  }
 ],
 "metadata": {
  "kernelspec": {
   "display_name": "Python 3",
   "language": "python",
   "name": "python3"
  },
  "language_info": {
   "codemirror_mode": {
    "name": "ipython",
    "version": 3
   },
   "file_extension": ".py",
   "mimetype": "text/x-python",
   "name": "python",
   "nbconvert_exporter": "python",
   "pygments_lexer": "ipython3",
   "version": "3.7.3"
  }
 },
 "nbformat": 4,
 "nbformat_minor": 2
}
